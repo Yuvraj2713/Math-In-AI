{
  "nbformat": 4,
  "nbformat_minor": 0,
  "metadata": {
    "colab": {
      "provenance": []
    },
    "kernelspec": {
      "name": "python3",
      "display_name": "Python 3"
    },
    "language_info": {
      "name": "python"
    }
  },
  "cells": [
    {
      "cell_type": "code",
      "execution_count": null,
      "metadata": {
        "id": "60rcOoTMO6O-"
      },
      "outputs": [],
      "source": [
        "#Import libraries\n",
        "import numpy as np\n",
        "import pandas as pd # data processing, CSV file I/O (e.g. pd.read_csv)\n",
        "import seaborn as sns\n",
        "import matplotlib.pyplot as plt\n",
        "from scipy.stats import norm"
      ]
    },
    {
      "cell_type": "code",
      "source": [
        "from google.colab import drive #skip this step\n",
        "\n",
        "# Mount Google Drive\n",
        "drive.mount('/content/drive')\n"
      ],
      "metadata": {
        "colab": {
          "base_uri": "https://localhost:8080/"
        },
        "id": "slYpwzLbPwNj",
        "outputId": "162d39ff-98b0-45ee-fe7c-9beb0e557534"
      },
      "execution_count": null,
      "outputs": [
        {
          "output_type": "stream",
          "name": "stdout",
          "text": [
            "Mounted at /content/drive\n"
          ]
        }
      ]
    },
    {
      "cell_type": "code",
      "source": [
        "import pandas as pd\n",
        "\n",
        "# Path to the CSV file in Google Drive\n",
        "file_path = '/content/drive/MyDrive/SOCR-HeightWeight.csv'\n",
        "\n",
        "# Read the CSV file\n",
        "df = pd.read_csv(file_path)\n",
        "\n",
        "# Display the first few rows of the dataframe\n",
        "print(df.head())\n"
      ],
      "metadata": {
        "colab": {
          "base_uri": "https://localhost:8080/"
        },
        "id": "zjoX60JVQLGA",
        "outputId": "875fd277-eeab-429d-d0dd-edcda19d763f"
      },
      "execution_count": null,
      "outputs": [
        {
          "output_type": "stream",
          "name": "stdout",
          "text": [
            "   Index  Height(Inches)  Weight(Pounds)\n",
            "0      1        65.78331        112.9925\n",
            "1      2        71.51521        136.4873\n",
            "2      3        69.39874        153.0269\n",
            "3      4        68.21660        142.3354\n",
            "4      5        67.78781        144.2971\n"
          ]
        }
      ]
    },
    {
      "cell_type": "code",
      "source": [
        "#check info about dataset\n",
        "df.info()"
      ],
      "metadata": {
        "colab": {
          "base_uri": "https://localhost:8080/"
        },
        "id": "KyfOHJzCQanp",
        "outputId": "0b3adc28-1257-4201-8478-e7a1ecf68853"
      },
      "execution_count": null,
      "outputs": [
        {
          "output_type": "stream",
          "name": "stdout",
          "text": [
            "<class 'pandas.core.frame.DataFrame'>\n",
            "RangeIndex: 25000 entries, 0 to 24999\n",
            "Data columns (total 3 columns):\n",
            " #   Column          Non-Null Count  Dtype  \n",
            "---  ------          --------------  -----  \n",
            " 0   Index           25000 non-null  int64  \n",
            " 1   Height(Inches)  25000 non-null  float64\n",
            " 2   Weight(Pounds)  25000 non-null  float64\n",
            "dtypes: float64(2), int64(1)\n",
            "memory usage: 586.1 KB\n"
          ]
        }
      ]
    },
    {
      "cell_type": "code",
      "source": [
        "#cut only 'Height' column for our data\n",
        "height = df.iloc[:, 1]\n",
        "print(height)"
      ],
      "metadata": {
        "colab": {
          "base_uri": "https://localhost:8080/"
        },
        "id": "Owr8RfRaQh03",
        "outputId": "e7897326-6a2a-448c-a867-7db0306498ab"
      },
      "execution_count": null,
      "outputs": [
        {
          "output_type": "stream",
          "name": "stdout",
          "text": [
            "0        65.78331\n",
            "1        71.51521\n",
            "2        69.39874\n",
            "3        68.21660\n",
            "4        67.78781\n",
            "           ...   \n",
            "24995    69.50215\n",
            "24996    64.54826\n",
            "24997    64.69855\n",
            "24998    67.52918\n",
            "24999    68.87761\n",
            "Name: Height(Inches), Length: 25000, dtype: float64\n"
          ]
        }
      ]
    },
    {
      "cell_type": "code",
      "source": [
        "#Let's find the mean\n",
        "mean = height.mean()\n",
        "print(mean)"
      ],
      "metadata": {
        "colab": {
          "base_uri": "https://localhost:8080/"
        },
        "id": "vlQ1TtOhQvDV",
        "outputId": "5fe0249b-fb2e-429c-d634-3765eb7b8bfd"
      },
      "execution_count": null,
      "outputs": [
        {
          "output_type": "stream",
          "name": "stdout",
          "text": [
            "67.99311359679999\n"
          ]
        }
      ]
    },
    {
      "cell_type": "code",
      "source": [
        "#get median\n",
        "median = height.median()\n",
        "print(median)"
      ],
      "metadata": {
        "colab": {
          "base_uri": "https://localhost:8080/"
        },
        "id": "nLg3FOedQ4x8",
        "outputId": "db619099-1d23-4b32-cef2-0844ead8eefc"
      },
      "execution_count": null,
      "outputs": [
        {
          "output_type": "stream",
          "name": "stdout",
          "text": [
            "67.9957\n"
          ]
        }
      ]
    },
    {
      "cell_type": "code",
      "source": [
        "#Get the mode\n",
        "mode = height.mode()[9] #It will give the last one\n",
        "print(mode)"
      ],
      "metadata": {
        "colab": {
          "base_uri": "https://localhost:8080/"
        },
        "id": "6rEu0A9VRCdN",
        "outputId": "d1736b2e-b481-4926-a4f9-f8992110921f"
      },
      "execution_count": null,
      "outputs": [
        {
          "output_type": "stream",
          "name": "stdout",
          "text": [
            "68.9783\n"
          ]
        }
      ]
    },
    {
      "cell_type": "code",
      "source": [],
      "metadata": {
        "id": "ZFY8r6TrCD18"
      },
      "execution_count": null,
      "outputs": []
    }
  ]
}